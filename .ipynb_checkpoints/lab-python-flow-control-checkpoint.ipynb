{
 "cells": [
  {
   "cell_type": "markdown",
   "id": "d3bfc191-8885-42ee-b0a0-bbab867c6f9f",
   "metadata": {
    "tags": []
   },
   "source": [
    "# Lab | Flow Control"
   ]
  },
  {
   "cell_type": "markdown",
   "id": "3851fcd1-cf98-4653-9c89-e003b7ec9400",
   "metadata": {},
   "source": [
    "## Exercise: Managing Customer Orders Optimized\n",
    "\n",
    "In the last lab, you were starting an online store that sells various products. To ensure smooth operations, you developed a program that manages customer orders and inventory.\n",
    "\n",
    "You did so without using flow control. Let's go a step further and improve this code.\n",
    "\n",
    "Follow the steps below to complete the exercise:\n",
    "\n",
    "1. Look at your code from the lab data structures, and improve repeated code with loops.\n",
    "\n",
    "2. Instead of asking the user to input the name of three products that a customer wants to order, do the following:\n",
    "    \n",
    "    a. Prompt the user to enter the name of a product that a customer wants to order.\n",
    "    \n",
    "    b. Add the product name to the \"customer_orders\" set.\n",
    "    \n",
    "    c. Ask the user if they want to add another product (yes/no).\n",
    "    \n",
    "    d. Continue the loop until the user does not want to add another product.\n",
    "\n",
    "3. Instead of updating the inventory by subtracting 1 from the quantity of each product, only do it for  the products that were ordered (those in \"customer_orders\")."
   ]
  },
  {
   "cell_type": "code",
   "execution_count": 1,
   "id": "64c6c130-4b02-4fa9-a937-21d80d8f97e3",
   "metadata": {},
   "outputs": [
    {
     "name": "stdout",
     "output_type": "stream",
     "text": [
      "Please enter the names of three products you'd like to order from the following list:\n",
      "t-shirt, mug, hat, book, keychain\n"
     ]
    },
    {
     "name": "stdin",
     "output_type": "stream",
     "text": [
      "Enter product 1:  book\n",
      "Enter product 2:  mug\n",
      "Enter product 3:  hat\n"
     ]
    },
    {
     "name": "stdout",
     "output_type": "stream",
     "text": [
      "\n",
      "Order Statistics:\n",
      "Total Products Ordered: 3\n",
      "Percentage of Products Ordered: 60.00%\n",
      "\n",
      "Updated Inventory:\n",
      "t-shirt: 10\n",
      "mug: 19\n",
      "hat: 14\n",
      "book: 11\n",
      "keychain: 25\n"
     ]
    }
   ],
   "source": [
    "products = [\"t-shirt\", \"mug\", \"hat\", \"book\", \"keychain\"]\n",
    "inventory = {\n",
    "    \"t-shirt\": 10,\n",
    "    \"mug\": 20,\n",
    "    \"hat\": 15,\n",
    "    \"book\": 12,\n",
    "    \"keychain\": 25\n",
    "}\n",
    "\n",
    "customer_orders = set()\n",
    "\n",
    "print(\"Please enter the names of three products you'd like to order from the following list:\")\n",
    "print(\", \".join(products))  # Show the available products\n",
    "\n",
    "for i in range(3):\n",
    "    while True:\n",
    "        product = input(f\"Enter product {i+1}: \").lower()  # Convert input to lowercase\n",
    "        if product in products:\n",
    "            customer_orders.add(product)\n",
    "            break\n",
    "        else:\n",
    "            print(\"Invalid product. Please choose from the available products.\")\n",
    "\n",
    "def calculate_order_statistics(orders, all_products):\n",
    "    total_products_ordered = len(orders)  # Total products ordered\n",
    "    percentage_of_products_ordered = (total_products_ordered / len(all_products)) * 100  # Percentage\n",
    "    return total_products_ordered, percentage_of_products_ordered\n",
    "\n",
    "order_status = calculate_order_statistics(customer_orders, products)\n",
    "\n",
    "print(\"\\nOrder Statistics:\")\n",
    "print(f\"Total Products Ordered: {order_status[0]}\")\n",
    "print(f\"Percentage of Products Ordered: {order_status[1]:.2f}%\")\n",
    "\n",
    "def update_inventory(inventory, orders):\n",
    "    for product in orders:\n",
    "        if inventory[product] > 0:\n",
    "            inventory[product] -= 1\n",
    "            \n",
    "update_inventory(inventory, customer_orders)\n",
    "\n",
    "print(\"\\nUpdated Inventory:\")\n",
    "for product, quantity in inventory.items():\n",
    "    print(f\"{product}: {quantity}\")"
   ]
  },
  {
   "cell_type": "code",
   "execution_count": 4,
   "id": "dc6f75c9-829e-40ad-bf66-2c2a5523db8c",
   "metadata": {},
   "outputs": [
    {
     "name": "stdout",
     "output_type": "stream",
     "text": [
      "Available products: t-shirt, mug, hat, book, keychain\n"
     ]
    },
    {
     "name": "stdin",
     "output_type": "stream",
     "text": [
      "Enter the name of the product you want to order:  book\n",
      "Do you want to add another product? (yes/no):  yes\n"
     ]
    },
    {
     "name": "stdout",
     "output_type": "stream",
     "text": [
      "Available products: t-shirt, mug, hat, book, keychain\n"
     ]
    },
    {
     "name": "stdin",
     "output_type": "stream",
     "text": [
      "Enter the name of the product you want to order:  hat\n",
      "Do you want to add another product? (yes/no):  yes\n"
     ]
    },
    {
     "name": "stdout",
     "output_type": "stream",
     "text": [
      "Available products: t-shirt, mug, hat, book, keychain\n"
     ]
    },
    {
     "name": "stdin",
     "output_type": "stream",
     "text": [
      "Enter the name of the product you want to order:  bike\n"
     ]
    },
    {
     "name": "stdout",
     "output_type": "stream",
     "text": [
      "Invalid product. Please choose from the available products.\n"
     ]
    },
    {
     "name": "stdin",
     "output_type": "stream",
     "text": [
      "Do you want to add another product? (yes/no):  boat\n"
     ]
    },
    {
     "name": "stdout",
     "output_type": "stream",
     "text": [
      "Invalid input. Please type 'yes' or 'no'.\n"
     ]
    },
    {
     "name": "stdin",
     "output_type": "stream",
     "text": [
      "Do you want to add another product? (yes/no):  no\n"
     ]
    },
    {
     "name": "stdout",
     "output_type": "stream",
     "text": [
      "\n",
      "Customer Orders:\n",
      "book\n",
      "hat\n",
      "\n",
      "Updated Inventory:\n",
      "t-shirt: 10\n",
      "mug: 19\n",
      "hat: 14\n",
      "book: 11\n",
      "keychain: 25\n"
     ]
    }
   ],
   "source": [
    "customer_orders = set()\n",
    "def ask_user_to_continue():\n",
    "    while True:\n",
    "        continue_choice = input(\"Do you want to add another product? (yes/no): \").lower()\n",
    "        if continue_choice in ['yes', 'no']:\n",
    "            return continue_choice == 'yes'\n",
    "        else:\n",
    "            print(\"Invalid input. Please type 'yes' or 'no'.\")\n",
    "while True:\n",
    "    print(\"Available products: \" + \", \".join(products))\n",
    "    product = input(\"Enter the name of the product you want to order: \").lower()\n",
    "    if product in products:\n",
    "        customer_orders.add(product)\n",
    "    else:\n",
    "        print(\"Invalid product. Please choose from the available products.\")\n",
    "    if not ask_user_to_continue():\n",
    "        break\n",
    "\n",
    "print(\"\\nCustomer Orders:\")\n",
    "for product in customer_orders:\n",
    "    print(product)\n",
    "def update_inventory(inventory, orders):\n",
    "    for product in orders:\n",
    "        if inventory[product] > 0:\n",
    "            inventory[product] -= 1\n",
    "print(\"\\nUpdated Inventory:\")\n",
    "for product, quantity in inventory.items():\n",
    "    print(f\"{product}: {quantity}\")"
   ]
  },
  {
   "cell_type": "code",
   "execution_count": 7,
   "id": "dfed4a24-f14e-40c7-a104-11736ad70e41",
   "metadata": {},
   "outputs": [
    {
     "name": "stdout",
     "output_type": "stream",
     "text": [
      "Available products: t-shirt, mug, hat, book, keychain\n"
     ]
    },
    {
     "name": "stdin",
     "output_type": "stream",
     "text": [
      "Enter the name of the product you want to order:  hat\n",
      "Do you want to add another product? (yes/no):  ywa\n"
     ]
    },
    {
     "name": "stdout",
     "output_type": "stream",
     "text": [
      "Invalid input. Please type 'yes' or 'no'.\n"
     ]
    },
    {
     "name": "stdin",
     "output_type": "stream",
     "text": [
      "Do you want to add another product? (yes/no):  yes\n"
     ]
    },
    {
     "name": "stdout",
     "output_type": "stream",
     "text": [
      "Available products: t-shirt, mug, hat, book, keychain\n"
     ]
    },
    {
     "name": "stdin",
     "output_type": "stream",
     "text": [
      "Enter the name of the product you want to order:  book\n",
      "Do you want to add another product? (yes/no):  yes\n"
     ]
    },
    {
     "name": "stdout",
     "output_type": "stream",
     "text": [
      "Available products: t-shirt, mug, hat, book, keychain\n"
     ]
    },
    {
     "name": "stdin",
     "output_type": "stream",
     "text": [
      "Enter the name of the product you want to order:  hat\n",
      "Do you want to add another product? (yes/no):  no\n"
     ]
    },
    {
     "name": "stdout",
     "output_type": "stream",
     "text": [
      "\n",
      "Customer Orders:\n",
      "book\n",
      "hat\n",
      "\n",
      "Updated Inventory:\n",
      "t-shirt: 10\n",
      "mug: 19\n",
      "hat: 11\n",
      "book: 9\n",
      "keychain: 25\n"
     ]
    }
   ],
   "source": [
    "customer_orders = set()\n",
    "def ask_user_to_continue():\n",
    "    while True:\n",
    "        continue_choice = input(\"Do you want to add another product? (yes/no): \").lower()\n",
    "        if continue_choice in ['yes', 'no']:\n",
    "            return continue_choice == 'yes'\n",
    "        else:\n",
    "            print(\"Invalid input. Please type 'yes' or 'no'.\")\n",
    "while True:\n",
    "    print(\"Available products: \" + \", \".join(products))\n",
    "    product = input(\"Enter the name of the product you want to order: \").lower()\n",
    "    if product in products:\n",
    "        customer_orders.add(product)\n",
    "    else:\n",
    "        print(\"Invalid product. Please choose from the available products.\")\n",
    "    if not ask_user_to_continue():\n",
    "        break\n",
    "\n",
    "print(\"\\nCustomer Orders:\")\n",
    "for product in customer_orders:\n",
    "    print(product)\n",
    "def update_inventory(inventory, orders):\n",
    "    for product in orders:\n",
    "        if inventory[product] > 0:\n",
    "            inventory[product] -= 1\n",
    "update_inventory(inventory, customer_orders)\n",
    "print(\"\\nUpdated Inventory:\")\n",
    "for product, quantity in inventory.items():\n",
    "    print(f\"{product}: {quantity}\")"
   ]
  },
  {
   "cell_type": "code",
   "execution_count": null,
   "id": "fbb96b47-b057-485c-901f-e1deb4e33d7a",
   "metadata": {},
   "outputs": [],
   "source": []
  }
 ],
 "metadata": {
  "kernelspec": {
   "display_name": "Python 3 (ipykernel)",
   "language": "python",
   "name": "python3"
  },
  "language_info": {
   "codemirror_mode": {
    "name": "ipython",
    "version": 3
   },
   "file_extension": ".py",
   "mimetype": "text/x-python",
   "name": "python",
   "nbconvert_exporter": "python",
   "pygments_lexer": "ipython3",
   "version": "3.12.5"
  }
 },
 "nbformat": 4,
 "nbformat_minor": 5
}
